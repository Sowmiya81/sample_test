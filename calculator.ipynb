{
 "cells": [
  {
   "cell_type": "code",
   "execution_count": null,
   "id": "5aabba9e-eff0-4f4a-8c6c-086460dc4b49",
   "metadata": {},
   "outputs": [],
   "source": [
    "import math\n",
    "\n",
    "class Calculator:\n",
    "    def add(self, a, b):\n",
    "        \"\"\"Return the sum of a and b\"\"\"\n",
    "        return a + b\n",
    "\n",
    "    def divide(self, a, b):\n",
    "        \"\"\"Return a divided by b, raise ValueError if b is zero\"\"\"\n",
    "        if b == 0:\n",
    "            raise ValueError(\"Cannot divide by zero\")\n",
    "        return a / b\n",
    "\n",
    "    def factorial(self, n):\n",
    "        \"\"\"Return factorial of n, raise ValueError if n is negative\"\"\"\n",
    "        if n < 0:\n",
    "            raise ValueError(\"Negative values are not allowed\")\n",
    "        return math.factorial(n)\n",
    "\n",
    "def square(x):\n",
    "    \"\"\"Return the square of x\"\"\"\n",
    "    return x * x\n",
    "\n",
    "def is_even(n):\n",
    "    \"\"\"Return True if n is even, False otherwise\"\"\"\n",
    "    return n % 2 == 0\n",
    "\n",
    "# Sample usage\n",
    "if __name__ == \"__main__\":\n",
    "    calc = Calculator()\n",
    "    print(\"Add:\", calc.add(5, 3))\n",
    "    print(\"Divide:\", calc.divide(10, 2))\n",
    "    print(\"Factorial:\", calc.factorial(4))\n",
    "    \n",
    "    print(\"Square:\", square(6))\n",
    "    print(\"Is Even:\", is_even(10))\n"
   ]
  }
 ],
 "metadata": {
  "kernelspec": {
   "display_name": "Python 3 (ipykernel)",
   "language": "python",
   "name": "python3"
  },
  "language_info": {
   "codemirror_mode": {
    "name": "ipython",
    "version": 3
   },
   "file_extension": ".py",
   "mimetype": "text/x-python",
   "name": "python",
   "nbconvert_exporter": "python",
   "pygments_lexer": "ipython3",
   "version": "3.12.4"
  }
 },
 "nbformat": 4,
 "nbformat_minor": 5
}
